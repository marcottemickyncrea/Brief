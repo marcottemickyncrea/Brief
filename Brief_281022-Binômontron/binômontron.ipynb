{
 "cells": [
  {
   "cell_type": "code",
   "execution_count": 1,
   "metadata": {},
   "outputs": [],
   "source": [
    "import mysql.connector as mysql\n",
    "from mysql.connector import Error\n",
    "\n",
    "user = 'root'\n",
    "password = 'example'\n",
    "host = 'localhost'\n",
    "port = '3308'\n",
    "database = 'Binomontron'"
   ]
  },
  {
   "attachments": {},
   "cell_type": "markdown",
   "metadata": {},
   "source": [
    "## Création de la table 'apprenants' et insertion des apprenants dans la table"
   ]
  },
  {
   "cell_type": "code",
   "execution_count": 65,
   "metadata": {},
   "outputs": [
    {
     "name": "stdout",
     "output_type": "stream",
     "text": [
      "You're connected to database:  ('binomontron',)\n",
      "Creating table....\n",
      "Table is created....\n",
      "Record inserted\n"
     ]
    }
   ],
   "source": [
    "try:\n",
    "    conn = mysql.connect(host=host, port=port, user=user, password=password, database=database)\n",
    "    if conn.is_connected():\n",
    "        cursor = conn.cursor()\n",
    "        cursor.execute(\"select database();\")\n",
    "        record = cursor.fetchone()\n",
    "        print(\"You're connected to database: \", record)\n",
    "        cursor.execute('DROP TABLE IF EXISTS apprenants;')\n",
    "        print('Creating table....')\n",
    "        cursor.execute(\"CREATE TABLE apprenants(id INT NOT NULL PRIMARY KEY AUTO_INCREMENT, nom VARCHAR(50) NOT NULL, prenom VARCHAR(50) NOT NULL, email VARCHAR(100) NOT NULL);\")\n",
    "        print(\"Table is created....\")\n",
    "        \n",
    "        sql = f'''INSERT INTO apprenants (nom, prenom, email) VALUES \n",
    "        ('LE GRAND','Kevin','kevin.le-grand@isen-ouest.yncrea.fr'),\n",
    "        ('PETIARD',\t'Harold','harold.petiard@isen-ouest.yncrea.fr'),\n",
    "        ('SCANU','David','david.scanu@isen-ouest.yncrea.fr'),\n",
    "        ('ANCELIN','Antoine','antoine.ancelin@isen-ouest.yncrea.fr'),\n",
    "        ('JOURNAUX','Johann','johann.journaux@isen-ouest.yncrea.fr'),\n",
    "        ('LEBARBIER','Charley','charley.lebarbier@isen-ouest.yncrea.fr'),\n",
    "        ('DIABY','Amadou','amadou.diaby@isen-ouest.yncrea.fr'),\n",
    "        ('DAUMER','Geoffroy','geoffroy.daumer@isen-ouest.yncrea.fr'),\n",
    "        ('JULES','Dimitri','dimitri.jules@isen-ouest.yncrea.fr'),\n",
    "        ('GUERIN','Basile','basile.guerin@isen-ouest.yncrea.fr'),\n",
    "        ('OSWALD','Viacheslav','viacheslav.oswald@isen-ouest.yncrea.fr'),\n",
    "        ('DUSSART','Ramata Soraya','ramata-soraya.dussart@isen-ouest.yncrea.fr'),\n",
    "        ('ZOUITEN','Guinel','guinel.zouiten@isen-ouest.yncrea.fr'),\n",
    "        ('MARCOTTE','Mickaël','mickael.marcotte@isen-ouest.yncrea.fr');'''\n",
    "        \n",
    "        cursor.execute(sql)\n",
    "        print(\"Record inserted\")\n",
    "        conn.commit()\n",
    "        cursor.close()\n",
    "        conn.close()\n",
    "except Error as e:\n",
    "            print(\"Error while connecting to MySQL\", e)"
   ]
  },
  {
   "attachments": {},
   "cell_type": "markdown",
   "metadata": {},
   "source": [
    "## Création des groupes aléatoires"
   ]
  },
  {
   "attachments": {},
   "cell_type": "markdown",
   "metadata": {},
   "source": [
    "### méthode 1: avec le module random de Python"
   ]
  },
  {
   "cell_type": "code",
   "execution_count": 2,
   "metadata": {},
   "outputs": [],
   "source": [
    "import random"
   ]
  },
  {
   "cell_type": "code",
   "execution_count": 23,
   "metadata": {},
   "outputs": [],
   "source": [
    "try:\n",
    "    conn = mysql.connect(host=host, port=port, user=user, password=password, database=database)\n",
    "    if conn.is_connected():\n",
    "        cursor = conn.cursor()\n",
    "        \n",
    "        cursor.execute(\"SELECT nom, prenom FROM apprenants\")\n",
    "        apprenants = cursor.fetchall()\n",
    "        cursor.close()\n",
    "        conn.close()\n",
    "except Error as e:\n",
    "            print(\"Error while connecting to MySQL\", e)"
   ]
  },
  {
   "cell_type": "code",
   "execution_count": 22,
   "metadata": {},
   "outputs": [
    {
     "data": {
      "text/plain": [
       "14"
      ]
     },
     "execution_count": 22,
     "metadata": {},
     "output_type": "execute_result"
    }
   ],
   "source": [
    "len(apprenants)"
   ]
  },
  {
   "cell_type": "code",
   "execution_count": 24,
   "metadata": {},
   "outputs": [
    {
     "data": {
      "text/plain": [
       "[('DAUMER', 'Geoffroy'),\n",
       " ('LE GRAND', 'Kevin'),\n",
       " ('ZOUITEN', 'Guinel'),\n",
       " ('DIABY', 'Amadou'),\n",
       " ('LEBARBIER', 'Charley'),\n",
       " ('MARCOTTE', 'Mickaël'),\n",
       " ('SCANU', 'David'),\n",
       " ('DUSSART', 'Ramata Soraya'),\n",
       " ('OSWALD', 'Viacheslav'),\n",
       " ('GUERIN', 'Basile'),\n",
       " ('JOURNAUX', 'Johann'),\n",
       " ('PETIARD', 'Harold'),\n",
       " ('JULES', 'Dimitri'),\n",
       " ('ANCELIN', 'Antoine')]"
      ]
     },
     "execution_count": 24,
     "metadata": {},
     "output_type": "execute_result"
    }
   ],
   "source": [
    "random.shuffle(apprenants)\n",
    "apprenants\n"
   ]
  },
  {
   "attachments": {},
   "cell_type": "markdown",
   "metadata": {},
   "source": [
    "### méthode 2: ordre aléatoire fait aux niveaux de la demande à la table"
   ]
  },
  {
   "cell_type": "code",
   "execution_count": 6,
   "metadata": {},
   "outputs": [
    {
     "data": {
      "text/plain": [
       "[('ANCELIN', 'Antoine'),\n",
       " ('OSWALD', 'Viacheslav'),\n",
       " ('SCANU', 'David'),\n",
       " ('DIABY', 'Amadou'),\n",
       " ('PETIARD', 'Harold'),\n",
       " ('JOURNAUX', 'Johann'),\n",
       " ('JULES', 'Dimitri'),\n",
       " ('GUERIN', 'Basile'),\n",
       " ('ZOUITEN', 'Guinel'),\n",
       " ('DAUMER', 'Geoffroy'),\n",
       " ('LE GRAND', 'Kevin'),\n",
       " ('LEBARBIER', 'Charley'),\n",
       " ('MARCOTTE', 'Mickaël'),\n",
       " ('DUSSART', 'Ramata Soraya')]"
      ]
     },
     "execution_count": 6,
     "metadata": {},
     "output_type": "execute_result"
    }
   ],
   "source": [
    "try:\n",
    "    conn = mysql.connect(host=host, port=port, user=user, password=password, database=database)\n",
    "    if conn.is_connected():\n",
    "        cursor = conn.cursor()\n",
    "        \n",
    "        cursor.execute(\"SELECT nom, prenom FROM apprenants ORDER BY RAND()\")\n",
    "        apprenants_shuffle = cursor.fetchall()\n",
    "        cursor.close()\n",
    "        conn.close()\n",
    "except Error as e:\n",
    "            print(\"Error while connecting to MySQL\", e)\n",
    "apprenants_shuffle"
   ]
  },
  {
   "cell_type": "code",
   "execution_count": 7,
   "metadata": {},
   "outputs": [],
   "source": [
    "def group_shuffle():\n",
    "    '''Génère une liste de 14 apprenants dans un ordre aléatoire'''\n",
    "    try:\n",
    "        conn = mysql.connect(host=host, port=port, user=user, password=password, database=database)\n",
    "        if conn.is_connected():\n",
    "            cursor = conn.cursor()            \n",
    "            cursor.execute(\"SELECT nom, prenom FROM apprenants ORDER BY RAND()\")\n",
    "            apprenants_shuffle = cursor.fetchall()\n",
    "            cursor.close()\n",
    "            conn.close()\n",
    "        return apprenants_shuffle\n",
    "    except Error as e:\n",
    "                print(\"Error while connecting to MySQL\", e)"
   ]
  },
  {
   "attachments": {},
   "cell_type": "markdown",
   "metadata": {},
   "source": [
    "### Répartition des apprenants dans des groupes"
   ]
  },
  {
   "cell_type": "code",
   "execution_count": 8,
   "metadata": {},
   "outputs": [],
   "source": [
    "def creat_group(membre_par_groupe):\n",
    "    ''''réparti les apprenants dans un groupe suivant le nombre de membre indiqué'''\n",
    "    apprenants_shuffle = group_shuffle() # utilise la méthode 2 pour générer une liste d'apprenant dans un ordre aléatoire\n",
    "    list_groupe = []\n",
    "    for i in range(0, len(apprenants_shuffle), membre_par_groupe):\n",
    "        groupe = apprenants_shuffle[i: i+membre_par_groupe]\n",
    "        list_groupe.append(groupe)\n",
    "    return list_groupe"
   ]
  },
  {
   "cell_type": "code",
   "execution_count": 9,
   "metadata": {},
   "outputs": [
    {
     "name": "stdout",
     "output_type": "stream",
     "text": [
      "[('DIABY', 'Amadou'), ('GUERIN', 'Basile'), ('JULES', 'Dimitri'), ('ZOUITEN', 'Guinel')]\n",
      "[('MARCOTTE', 'Mickaël'), ('DAUMER', 'Geoffroy'), ('SCANU', 'David'), ('PETIARD', 'Harold')]\n",
      "[('ANCELIN', 'Antoine'), ('DUSSART', 'Ramata Soraya'), ('LE GRAND', 'Kevin'), ('JOURNAUX', 'Johann')]\n",
      "[('OSWALD', 'Viacheslav'), ('LEBARBIER', 'Charley')]\n"
     ]
    }
   ],
   "source": [
    "groups = creat_group(4)\n",
    "for group in groups:\n",
    "    print(group)"
   ]
  },
  {
   "attachments": {},
   "cell_type": "markdown",
   "metadata": {},
   "source": [
    "## Obtenir le mail d'un apprenant"
   ]
  },
  {
   "cell_type": "code",
   "execution_count": 28,
   "metadata": {},
   "outputs": [],
   "source": [
    "def mail_apprenant(nom):\n",
    "    '''à partir du nom de l'apprenant, la fonction renvoie le mail'''\n",
    "    try:\n",
    "        conn = mysql.connect(host=host, port=port, user=user, password=password, database=database)\n",
    "        if conn.is_connected():\n",
    "            cursor = conn.cursor()            \n",
    "            cursor.execute(f'''SELECT email FROM apprenants WHERE nom=\"{nom.upper()}\"''')\n",
    "            apprenant= cursor.fetchone()\n",
    "            cursor.close()\n",
    "            conn.close()\n",
    "        return apprenant[0]\n",
    "    except Error as e:\n",
    "                print(\"Error while connecting to MySQL\", e)"
   ]
  },
  {
   "cell_type": "code",
   "execution_count": 11,
   "metadata": {},
   "outputs": [
    {
     "data": {
      "text/plain": [
       "'mickael.marcotte@isen-ouest.yncrea.fr'"
      ]
     },
     "execution_count": 11,
     "metadata": {},
     "output_type": "execute_result"
    }
   ],
   "source": [
    "mail_apprenant('marcotte')"
   ]
  },
  {
   "attachments": {},
   "cell_type": "markdown",
   "metadata": {},
   "source": [
    "## Enregistrement d'un groupe créé dans une table"
   ]
  },
  {
   "cell_type": "code",
   "execution_count": 12,
   "metadata": {},
   "outputs": [],
   "source": [
    "def enregistrement_group(groups):\n",
    "    '''enregistre un groupe précédemment formé'''\n",
    "    try:\n",
    "        conn = mysql.connect(host=host, port=port, user=user, password=password, database=database)\n",
    "        if conn.is_connected():\n",
    "            cursor = conn.cursor()            \n",
    "            cursor.execute(f'''INSERT INTO groupe (groupe) VALUE (\"{groups}\");''') #la date d'enregistrement est généré au niveau de la table\n",
    "            conn.commit()\n",
    "            cursor.close()\n",
    "            conn.close()\n",
    "    except Error as e:\n",
    "                print(\"Error while connecting to MySQL\", e)"
   ]
  },
  {
   "cell_type": "code",
   "execution_count": 13,
   "metadata": {},
   "outputs": [],
   "source": [
    "enregistrement_group(groups)"
   ]
  },
  {
   "attachments": {},
   "cell_type": "markdown",
   "metadata": {},
   "source": [
    "## Vérifier que le groupe créé n'existe pas déjà"
   ]
  },
  {
   "cell_type": "code",
   "execution_count": 17,
   "metadata": {},
   "outputs": [],
   "source": [
    "def groups_present(list):\n",
    "    '''se connecte à la table 'groupe' pour déterminer si la répartition par groupe a déjà été généré'''\n",
    "    try:\n",
    "        conn = mysql.connect(host=host, port=port, user=user, password=password, database=database)\n",
    "        if conn.is_connected():\n",
    "            cursor = conn.cursor()            \n",
    "            cursor.execute(f'''SELECT id_group FROM groupe WHERE groupe=\"{list}\";''')\n",
    "            response = cursor.fetchone()\n",
    "            if response:                \n",
    "                return True\n",
    "            else:\n",
    "                return False\n",
    "            \n",
    "    except Error as e:\n",
    "                print(\"Error while connecting to MySQL\", e)"
   ]
  },
  {
   "cell_type": "code",
   "execution_count": 18,
   "metadata": {},
   "outputs": [
    {
     "data": {
      "text/plain": [
       "True"
      ]
     },
     "execution_count": 18,
     "metadata": {},
     "output_type": "execute_result"
    }
   ],
   "source": [
    "groups_present([[('DIABY', 'Amadou'), ('PETIARD', 'Harold'), ('DAUMER', 'Geoffroy'), ('DUSSART', 'Ramata Soraya'), ('SCANU', 'David'), ('LE GRAND', 'Kevin'), ('JULES', 'Dimitri'), ('OSWALD', 'Viacheslav'), ('ZOUITEN', 'Guinel'), ('JOURNAUX', 'Johann'), ('MARCOTTE', 'Mickaël'), ('LEBARBIER', 'Charley'), ('ANCELIN', 'Antoine'), ('GUERIN', 'Basile')]])"
   ]
  },
  {
   "cell_type": "code",
   "execution_count": 26,
   "metadata": {},
   "outputs": [],
   "source": [
    "def creat_group_new(nombre_groupe):\n",
    "    '''crée un nouveau groupe, puis vérifie s'il existe déjà, si oui, la fonction est à nouveau appelée, si non, la groupe est créé'''\n",
    "    apprenants_shuffle = group_shuffle()\n",
    "    list_groupe = []\n",
    "    for i in range(0, len(apprenants_shuffle), nombre_groupe):\n",
    "        groupe = apprenants_shuffle[i: i+nombre_groupe]\n",
    "        list_groupe.append(groupe)\n",
    "    \n",
    "    #boolean = False\n",
    "    if groups_present(list_groupe):\n",
    "        #boolean = True\n",
    "        creat_group_new(nombre_groupe)    \n",
    "    #return boolean       \n",
    "    return list_groupe\n"
   ]
  },
  {
   "attachments": {},
   "cell_type": "markdown",
   "metadata": {},
   "source": [
    "J'ai créé une boucle pour vérifier que la fonction fonctionnait comme prévu puisqu'avec 14 apprenants, plus de 87 milliard de répartition sont possibles. Au bout de 20 min, seul 27789 combinaisons sont sorties. Je ne sais pas si la fonction fonctionne ou non, puisqu'elle aurait dû s'arrêter si elle tombait sur une répartition existante. D'autant plus qu'un groupe avec les mêmes apprenants, mais dans un ordre différent sera considéré comme différent. "
   ]
  },
  {
   "cell_type": "code",
   "execution_count": 29,
   "metadata": {},
   "outputs": [
    {
     "name": "stdout",
     "output_type": "stream",
     "text": [
      "1\n",
      "2\n",
      "3\n",
      "4\n",
      "5\n",
      "6\n",
      "7\n",
      "8\n",
      "9\n",
      "10\n",
      "11\n",
      "12\n",
      "13\n",
      "14\n",
      "15\n",
      "16\n",
      "17\n",
      "18\n",
      "19\n",
      "20\n",
      "21\n",
      "22\n",
      "23\n",
      "24\n",
      "25\n",
      "26\n",
      "27\n",
      "28\n",
      "29\n",
      "30\n",
      "31\n",
      "32\n",
      "33\n",
      "34\n",
      "35\n",
      "36\n",
      "37\n",
      "38\n",
      "39\n",
      "40\n",
      "41\n",
      "42\n",
      "43\n",
      "44\n",
      "45\n",
      "46\n",
      "47\n",
      "48\n",
      "49\n",
      "50\n",
      "51\n",
      "52\n",
      "53\n",
      "54\n",
      "55\n",
      "56\n",
      "57\n",
      "58\n",
      "59\n",
      "60\n",
      "61\n",
      "62\n",
      "63\n",
      "64\n",
      "65\n",
      "66\n",
      "67\n",
      "68\n",
      "69\n",
      "70\n",
      "71\n",
      "72\n",
      "73\n",
      "74\n",
      "75\n",
      "76\n",
      "77\n",
      "78\n",
      "79\n",
      "80\n",
      "81\n",
      "82\n",
      "83\n",
      "84\n",
      "85\n",
      "86\n",
      "87\n",
      "88\n",
      "89\n",
      "90\n",
      "91\n",
      "92\n",
      "93\n",
      "94\n",
      "95\n",
      "96\n",
      "97\n",
      "98\n",
      "99\n",
      "100\n",
      "101\n",
      "102\n",
      "103\n",
      "104\n",
      "105\n",
      "106\n",
      "107\n",
      "108\n",
      "109\n",
      "110\n",
      "111\n",
      "112\n",
      "113\n",
      "114\n",
      "115\n",
      "116\n",
      "117\n",
      "118\n"
     ]
    },
    {
     "ename": "KeyboardInterrupt",
     "evalue": "",
     "output_type": "error",
     "traceback": [
      "\u001b[1;31m---------------------------------------------------------------------------\u001b[0m",
      "\u001b[1;31mKeyboardInterrupt\u001b[0m                         Traceback (most recent call last)",
      "Cell \u001b[1;32mIn[29], line 4\u001b[0m\n\u001b[0;32m      2\u001b[0m count \u001b[39m=\u001b[39m \u001b[39m0\u001b[39m\n\u001b[0;32m      3\u001b[0m \u001b[39mwhile\u001b[39;00m group2 \u001b[39m!=\u001b[39m \u001b[39mTrue\u001b[39;00m:\n\u001b[1;32m----> 4\u001b[0m     group2\u001b[39m=\u001b[39m creat_group_new(\u001b[39m4\u001b[39;49m)\n\u001b[0;32m      5\u001b[0m     count \u001b[39m+\u001b[39m\u001b[39m=\u001b[39m\u001b[39m1\u001b[39m\n\u001b[0;32m      6\u001b[0m     \u001b[39mprint\u001b[39m(count)\n",
      "Cell \u001b[1;32mIn[26], line 10\u001b[0m, in \u001b[0;36mcreat_group_new\u001b[1;34m(nombre_groupe)\u001b[0m\n\u001b[0;32m      7\u001b[0m     list_groupe\u001b[39m.\u001b[39mappend(groupe)\n\u001b[0;32m      9\u001b[0m boolean \u001b[39m=\u001b[39m \u001b[39mFalse\u001b[39;00m\n\u001b[1;32m---> 10\u001b[0m \u001b[39mif\u001b[39;00m groups_present(list_groupe):\n\u001b[0;32m     11\u001b[0m     boolean \u001b[39m=\u001b[39m \u001b[39mTrue\u001b[39;00m\n\u001b[0;32m     12\u001b[0m     creat_group_new(nombre_groupe)    \n",
      "Cell \u001b[1;32mIn[17], line 6\u001b[0m, in \u001b[0;36mgroups_present\u001b[1;34m(list)\u001b[0m\n\u001b[0;32m      4\u001b[0m \u001b[39mif\u001b[39;00m conn\u001b[39m.\u001b[39mis_connected():\n\u001b[0;32m      5\u001b[0m     cursor \u001b[39m=\u001b[39m conn\u001b[39m.\u001b[39mcursor()            \n\u001b[1;32m----> 6\u001b[0m     cursor\u001b[39m.\u001b[39;49mexecute(\u001b[39mf\u001b[39;49m\u001b[39m'''\u001b[39;49m\u001b[39mSELECT id_group FROM groupe WHERE groupe=\u001b[39;49m\u001b[39m\"\u001b[39;49m\u001b[39m{\u001b[39;49;00m\u001b[39mlist\u001b[39;49m\u001b[39m}\u001b[39;49;00m\u001b[39m\"\u001b[39;49m\u001b[39m;\u001b[39;49m\u001b[39m'''\u001b[39;49m)\n\u001b[0;32m      7\u001b[0m     response \u001b[39m=\u001b[39m cursor\u001b[39m.\u001b[39mfetchone()\n\u001b[0;32m      8\u001b[0m     \u001b[39mif\u001b[39;00m response:                \n",
      "File \u001b[1;32mc:\\environnement\\.venv\\lib\\site-packages\\mysql\\connector\\cursor_cext.py:262\u001b[0m, in \u001b[0;36mCMySQLCursor.execute\u001b[1;34m(self, operation, params, multi)\u001b[0m\n\u001b[0;32m    258\u001b[0m             \u001b[39mraise\u001b[39;00m errors\u001b[39m.\u001b[39mProgrammingError(\n\u001b[0;32m    259\u001b[0m                 \u001b[39m\"\u001b[39m\u001b[39mNot all parameters were used in the SQL statement\u001b[39m\u001b[39m\"\u001b[39m)\n\u001b[0;32m    261\u001b[0m \u001b[39mtry\u001b[39;00m:\n\u001b[1;32m--> 262\u001b[0m     result \u001b[39m=\u001b[39m \u001b[39mself\u001b[39;49m\u001b[39m.\u001b[39;49m_cnx\u001b[39m.\u001b[39;49mcmd_query(stmt, raw\u001b[39m=\u001b[39;49m\u001b[39mself\u001b[39;49m\u001b[39m.\u001b[39;49m_raw,\n\u001b[0;32m    263\u001b[0m                                  buffered\u001b[39m=\u001b[39;49m\u001b[39mself\u001b[39;49m\u001b[39m.\u001b[39;49m_buffered,\n\u001b[0;32m    264\u001b[0m                                  raw_as_string\u001b[39m=\u001b[39;49m\u001b[39mself\u001b[39;49m\u001b[39m.\u001b[39;49m_raw_as_string)\n\u001b[0;32m    265\u001b[0m \u001b[39mexcept\u001b[39;00m MySQLInterfaceError \u001b[39mas\u001b[39;00m exc:\n\u001b[0;32m    266\u001b[0m     \u001b[39mraise\u001b[39;00m errors\u001b[39m.\u001b[39mget_mysql_exception(msg\u001b[39m=\u001b[39mexc\u001b[39m.\u001b[39mmsg, errno\u001b[39m=\u001b[39mexc\u001b[39m.\u001b[39merrno,\n\u001b[0;32m    267\u001b[0m                                      sqlstate\u001b[39m=\u001b[39mexc\u001b[39m.\u001b[39msqlstate)\n",
      "File \u001b[1;32mc:\\environnement\\.venv\\lib\\site-packages\\mysql\\connector\\connection_cext.py:390\u001b[0m, in \u001b[0;36mCMySQLConnection.cmd_query\u001b[1;34m(self, query, raw, buffered, raw_as_string)\u001b[0m\n\u001b[0;32m    388\u001b[0m     \u001b[39mif\u001b[39;00m \u001b[39mnot\u001b[39;00m \u001b[39misinstance\u001b[39m(query, \u001b[39mbytes\u001b[39m):\n\u001b[0;32m    389\u001b[0m         query \u001b[39m=\u001b[39m query\u001b[39m.\u001b[39mencode(\u001b[39m'\u001b[39m\u001b[39mutf-8\u001b[39m\u001b[39m'\u001b[39m)\n\u001b[1;32m--> 390\u001b[0m     \u001b[39mself\u001b[39;49m\u001b[39m.\u001b[39;49m_cmysql\u001b[39m.\u001b[39;49mquery(query,\n\u001b[0;32m    391\u001b[0m                        raw\u001b[39m=\u001b[39;49mraw, buffered\u001b[39m=\u001b[39;49mbuffered,\n\u001b[0;32m    392\u001b[0m                        raw_as_string\u001b[39m=\u001b[39;49mraw_as_string)\n\u001b[0;32m    393\u001b[0m \u001b[39mexcept\u001b[39;00m MySQLInterfaceError \u001b[39mas\u001b[39;00m exc:\n\u001b[0;32m    394\u001b[0m     \u001b[39mraise\u001b[39;00m errors\u001b[39m.\u001b[39mget_mysql_exception(exc\u001b[39m.\u001b[39merrno, msg\u001b[39m=\u001b[39mexc\u001b[39m.\u001b[39mmsg,\n\u001b[0;32m    395\u001b[0m                                      sqlstate\u001b[39m=\u001b[39mexc\u001b[39m.\u001b[39msqlstate)\n",
      "\u001b[1;31mKeyboardInterrupt\u001b[0m: "
     ]
    }
   ],
   "source": [
    "group2 = False\n",
    "count = 0\n",
    "while group2 != True:\n",
    "    group2= creat_group_new(4)\n",
    "    count +=1\n",
    "    print(count)"
   ]
  }
 ],
 "metadata": {
  "kernelspec": {
   "display_name": ".venv",
   "language": "python",
   "name": "python3"
  },
  "language_info": {
   "codemirror_mode": {
    "name": "ipython",
    "version": 3
   },
   "file_extension": ".py",
   "mimetype": "text/x-python",
   "name": "python",
   "nbconvert_exporter": "python",
   "pygments_lexer": "ipython3",
   "version": "3.10.9 (tags/v3.10.9:1dd9be6, Dec  6 2022, 20:01:21) [MSC v.1934 64 bit (AMD64)]"
  },
  "orig_nbformat": 4,
  "vscode": {
   "interpreter": {
    "hash": "f394ba83058c5a142df3c7e87c8296842715c2e07fd446e3acfd6cb9b123e2dc"
   }
  }
 },
 "nbformat": 4,
 "nbformat_minor": 2
}
